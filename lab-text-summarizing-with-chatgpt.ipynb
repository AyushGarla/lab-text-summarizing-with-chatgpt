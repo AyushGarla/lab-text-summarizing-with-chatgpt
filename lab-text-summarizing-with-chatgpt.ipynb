{
 "cells": [
  {
   "cell_type": "markdown",
   "metadata": {},
   "source": [
    "# Text summarizing with ChaptGPT\n",
    "In this lesson, you will summarize text with a focus on specific topics.\n",
    "\n",
    "## Setup"
   ]
  },
  {
   "cell_type": "code",
   "execution_count": 1,
   "metadata": {
    "tags": []
   },
   "outputs": [],
   "source": [
    "from openai import OpenAI\n",
    "import os\n",
    "\n",
    "from dotenv import load_dotenv, find_dotenv\n",
    "_ = load_dotenv(find_dotenv()) # read local .env file\n",
    "\n",
    "OPENAI_API_KEY  = os.getenv('OPENAI_API_KEY')"
   ]
  },
  {
   "cell_type": "code",
   "execution_count": 2,
   "metadata": {
    "tags": []
   },
   "outputs": [],
   "source": [
    "client = OpenAI(\n",
    "    # This is the default and can be omitted\n",
    "    api_key=OPENAI_API_KEY,\n",
    ")\n",
    "\n",
    "\n",
    "def get_completion(prompt, model=\"gpt-3.5-turbo\"): # Andrew mentioned that the prompt/ completion paradigm is preferable for this class\n",
    "    messages = [{\"role\": \"user\", \"content\": prompt}]\n",
    "    response = client.chat.completions.create(\n",
    "        model=model,\n",
    "        messages=messages,\n",
    "        temperature=0, # this is the degree of randomness of the model's output\n",
    "    )\n",
    "    return response.choices[0].message.content\n"
   ]
  },
  {
   "cell_type": "markdown",
   "metadata": {},
   "source": [
    "## Text to summarize"
   ]
  },
  {
   "cell_type": "code",
   "execution_count": 3,
   "metadata": {
    "tags": []
   },
   "outputs": [],
   "source": [
    "prod_review = \"\"\"\n",
    "Got this panda plush toy for my daughter's birthday, \\\n",
    "who loves it and takes it everywhere. It's soft and \\ \n",
    "super cute, and its face has a friendly look. It's \\ \n",
    "a bit small for what I paid though. I think there \\ \n",
    "might be other options that are bigger for the \\ \n",
    "same price. It arrived a day earlier than expected, \\ \n",
    "so I got to play with it myself before I gave it \\ \n",
    "to her.\n",
    "\"\"\""
   ]
  },
  {
   "cell_type": "markdown",
   "metadata": {},
   "source": [
    "## Summarize with a word/sentence/character limit"
   ]
  },
  {
   "cell_type": "code",
   "execution_count": 4,
   "metadata": {
    "tags": []
   },
   "outputs": [
    {
     "name": "stdout",
     "output_type": "stream",
     "text": [
      "Soft, cute panda plush toy loved by daughter, arrived early. Small for price, but friendly face. Consider larger options for same cost.\n"
     ]
    }
   ],
   "source": [
    "prompt = f\"\"\"\n",
    "Your task is to generate a short summary of a product \\\n",
    "review from an ecommerce site. \n",
    "\n",
    "Summarize the review below, delimited by triple \n",
    "backticks, in at most 30 words. \n",
    "\n",
    "Review: ```{prod_review}```\n",
    "\"\"\"\n",
    "\n",
    "response = get_completion(prompt)\n",
    "print(response)\n"
   ]
  },
  {
   "cell_type": "markdown",
   "metadata": {},
   "source": [
    "## Summarize with a focus on shipping and delivery"
   ]
  },
  {
   "cell_type": "code",
   "execution_count": 41,
   "metadata": {
    "tags": []
   },
   "outputs": [
    {
     "name": "stdout",
     "output_type": "stream",
     "text": [
      "The customer loved the panda plush toy for their daughter's birthday, but felt it was a bit small for the price. However, they were pleasantly surprised by the early delivery.\n"
     ]
    }
   ],
   "source": [
    "prompt = f\"\"\"\n",
    "Your task is to generate a short summary of a product \\\n",
    "review from an ecommerce site to give feedback to the \\\n",
    "Shipping deparmtment. \n",
    "\n",
    "Summarize the review below, delimited by triple \n",
    "backticks, in at most 30 words, and focusing on any aspects \\\n",
    "that mention shipping and delivery of the product. \n",
    "\n",
    "Review: ```{prod_review}```\n",
    "\"\"\"\n",
    "\n",
    "response = get_completion(prompt)\n",
    "print(response)\n"
   ]
  },
  {
   "cell_type": "markdown",
   "metadata": {},
   "source": [
    "## Summarize with a focus on price and value"
   ]
  },
  {
   "cell_type": "code",
   "execution_count": 43,
   "metadata": {
    "tags": []
   },
   "outputs": [
    {
     "name": "stdout",
     "output_type": "stream",
     "text": [
      "The panda plush toy is loved for its softness and cuteness, but some customers feel it's a bit small for the price.\n"
     ]
    }
   ],
   "source": [
    "prompt = f\"\"\"\n",
    "Your task is to generate a short summary of a product \\\n",
    "review from an ecommerce site to give feedback to the \\\n",
    "pricing deparmtment, responsible for determining the \\\n",
    "price of the product.  \n",
    "\n",
    "Summarize the review below, delimited by triple \n",
    "backticks, in at most 30 words, and focusing on any aspects \\\n",
    "that are relevant to the price and perceived value. \n",
    "\n",
    "Review: ```{prod_review}```\n",
    "\"\"\"\n",
    "\n",
    "response = get_completion(prompt)\n",
    "print(response)\n"
   ]
  },
  {
   "cell_type": "markdown",
   "metadata": {},
   "source": [
    "#### Comment\n",
    "- Summaries include topics that are not related to the topic of focus."
   ]
  },
  {
   "cell_type": "markdown",
   "metadata": {},
   "source": [
    "## Try \"extract\" instead of \"summarize\""
   ]
  },
  {
   "cell_type": "code",
   "execution_count": 48,
   "metadata": {
    "tags": []
   },
   "outputs": [
    {
     "name": "stdout",
     "output_type": "stream",
     "text": [
      "Feedback: The shipping was faster than expected, arriving a day early. Customer suggests offering larger options for the same price.\n"
     ]
    }
   ],
   "source": [
    "prompt = f\"\"\"\n",
    "Your task is to extract relevant information from \\ \n",
    "a product review from an ecommerce site to give \\\n",
    "feedback to the Shipping department. \n",
    "\n",
    "From the review below, delimited by triple quotes \\\n",
    "extract the information relevant to shipping and \\ \n",
    "delivery. Limit to 30 words. \n",
    "\n",
    "Review: ```{prod_review}```\n",
    "\"\"\"\n",
    "\n",
    "response = get_completion(prompt)\n",
    "print(response)"
   ]
  },
  {
   "cell_type": "markdown",
   "metadata": {},
   "source": [
    "## Summarize multiple product reviews"
   ]
  },
  {
   "cell_type": "code",
   "execution_count": 51,
   "metadata": {
    "tags": []
   },
   "outputs": [],
   "source": [
    "\n",
    "review_1 = prod_review \n",
    "\n",
    "# review for a standing lamp\n",
    "review_2 = \"\"\"\n",
    "Needed a nice lamp for my bedroom, and this one \\\n",
    "had additional storage and not too high of a price \\\n",
    "point. Got it fast - arrived in 2 days. The string \\\n",
    "to the lamp broke during the transit and the company \\\n",
    "happily sent over a new one. Came within a few days \\\n",
    "as well. It was easy to put together. Then I had a \\\n",
    "missing part, so I contacted their support and they \\\n",
    "very quickly got me the missing piece! Seems to me \\\n",
    "to be a great company that cares about their customers \\\n",
    "and products. \n",
    "\"\"\"\n",
    "\n",
    "# review for an electric toothbrush\n",
    "review_3 = \"\"\"\n",
    "My dental hygienist recommended an electric toothbrush, \\\n",
    "which is why I got this. The battery life seems to be \\\n",
    "pretty impressive so far. After initial charging and \\\n",
    "leaving the charger plugged in for the first week to \\\n",
    "condition the battery, I've unplugged the charger and \\\n",
    "been using it for twice daily brushing for the last \\\n",
    "3 weeks all on the same charge. But the toothbrush head \\\n",
    "is too small. I’ve seen baby toothbrushes bigger than \\\n",
    "this one. I wish the head was bigger with different \\\n",
    "length bristles to get between teeth better because \\\n",
    "this one doesn’t.  Overall if you can get this one \\\n",
    "around the $50 mark, it's a good deal. The manufactuer's \\\n",
    "replacements heads are pretty expensive, but you can \\\n",
    "get generic ones that're more reasonably priced. This \\\n",
    "toothbrush makes me feel like I've been to the dentist \\\n",
    "every day. My teeth feel sparkly clean! \n",
    "\"\"\"\n",
    "\n",
    "# review for a blender\n",
    "review_4 = \"\"\"\n",
    "So, they still had the 17 piece system on seasonal \\\n",
    "sale for around $49 in the month of November, about \\\n",
    "half off, but for some reason (call it price gouging) \\\n",
    "around the second week of December the prices all went \\\n",
    "up to about anywhere from between $70-$89 for the same \\\n",
    "system. And the 11 piece system went up around $10 or \\\n",
    "so in price also from the earlier sale price of $29. \\\n",
    "So it looks okay, but if you look at the base, the part \\\n",
    "where the blade locks into place doesn’t look as good \\\n",
    "as in previous editions from a few years ago, but I \\\n",
    "plan to be very gentle with it (example, I crush \\\n",
    "very hard items like beans, ice, rice, etc. in the \\ \n",
    "blender first then pulverize them in the serving size \\\n",
    "I want in the blender then switch to the whipping \\\n",
    "blade for a finer flour, and use the cross cutting blade \\\n",
    "first when making smoothies, then use the flat blade \\\n",
    "if I need them finer/less pulpy). Special tip when making \\\n",
    "smoothies, finely cut and freeze the fruits and \\\n",
    "vegetables (if using spinach-lightly stew soften the \\ \n",
    "spinach then freeze until ready for use-and if making \\\n",
    "sorbet, use a small to medium sized food processor) \\ \n",
    "that you plan to use that way you can avoid adding so \\\n",
    "much ice if at all-when making your smoothie. \\\n",
    "After about a year, the motor was making a funny noise. \\\n",
    "I called customer service but the warranty expired \\\n",
    "already, so I had to buy another one. FYI: The overall \\\n",
    "quality has gone done in these types of products, so \\\n",
    "they are kind of counting on brand recognition and \\\n",
    "consumer loyalty to maintain sales. Got it in about \\\n",
    "two days.\n",
    "\"\"\"\n",
    "\n",
    "reviews = [review_1, review_2, review_3, review_4]"
   ]
  },
  {
   "cell_type": "code",
   "execution_count": 53,
   "metadata": {
    "tags": []
   },
   "outputs": [
    {
     "name": "stdout",
     "output_type": "stream",
     "text": [
      "0 Summary: \n",
      "Adorable panda plush loved by daughter, but small for price. Arrived early, soft and cute. \n",
      "\n",
      "1 Great lamp with storage, fast delivery, excellent customer service for missing parts. Easy to assemble. \n",
      "\n",
      "2 Impressive battery life, small brush head, good deal for $50, generic replacement heads available, leaves teeth feeling clean. \n",
      "\n",
      "3 Prices fluctuated, quality declined, motor issues after a year, frozen fruits tip for smoothies, brand loyalty. \n",
      "\n"
     ]
    }
   ],
   "source": [
    "for i in range(len(reviews)):\n",
    "    prompt = f\"\"\"\n",
    "    Your task is to generate a short summary of a product \\ \n",
    "    review from an ecommerce site. \n",
    "\n",
    "    Summarize the review below, delimited by triple \\\n",
    "    backticks in at most 20 words. \n",
    "\n",
    "    Review: ```{reviews[i]}```\n",
    "    \"\"\"\n",
    "\n",
    "    response = get_completion(prompt)\n",
    "    print(i, response, \"\\n\")"
   ]
  },
  {
   "cell_type": "markdown",
   "metadata": {},
   "source": [
    "# Exercise\n",
    " - Complete the prompts similar to what we did in class. \n",
    "     - Try at least 3 versions\n",
    "     - Be creative\n",
    " - Write a one page report summarizing your findings.\n",
    "     - Were there variations that didn't work well? i.e., where GPT either hallucinated or wrong\n",
    " - What did you learn?"
   ]
  },
  {
   "cell_type": "code",
   "execution_count": 7,
   "metadata": {},
   "outputs": [],
   "source": [
    "Lidl = 'Lidl is one of the most affordable supermarkets in Germany, making it a favorite for budget-conscious shoppers. The stores follow a no-frills concept, but their efficiency keeps things simple. Most of the products are Lidl’s own brands, which often surprise people with good quality at low prices. The bakery section is especially popular, with freshly baked bread, croissants, and pretzels drawing in many customers. Each week, Lidl also runs special offers on non-food items like clothes, electronics, and tools, which makes shopping a bit exciting. The stores are generally smaller than Kaufland or Edeka, so the shopping experience is quick and straightforward. Their fruit and vegetable section is decent, although not as big as in more premium supermarkets. In recent years, Lidl has also expanded its organic and vegan range, attracting younger and more health-conscious customers. The checkout process is extremely fast, though sometimes it feels a little rushed. Overall, Lidl is the go-to choice for everyday essentials when you want to save money without sacrificing too much quality.'\n",
    "\n",
    "Edeka = 'Edeka is often considered the more premium supermarket option in Germany, offering a wide selection and higher quality products compared to the discounters. Shopping here feels more relaxed, and the stores usually look well-organized and welcoming. The fresh produce section is large and carefully presented, giving it a market-like feel. Their bakery and deli counters also stand out with freshly prepared items that often look and taste better than those in discount chains. Prices are definitely higher, but many people feel that the quality and variety justify the cost. Another unique point is Edeka’s support for local farmers and regional products, which adds a personal touch to the shopping experience. They also have a very strong range of international foods, making it easier to find special ingredients. Customer service tends to be friendlier and more approachable compared to other chains. Many people see Edeka as the place to shop when they want something more than just basic groceries. Overall, it is a great choice for those who value quality, variety, and a more pleasant shopping atmosphere.'\n",
    "\n",
    "Kaufland = 'Kaufland feels more like a hypermarket than a regular supermarket, with its massive layout and wide variety of products. The stores are designed for people who like to do their weekly or monthly shopping in one place. You can find everything here, from fresh fish and meat to electronics, clothing, and even toys. Their assortment is one of the largest among German supermarkets, which makes it very convenient for families. Prices are reasonable, sitting somewhere between Aldi or Lidl on the cheap side and Edeka on the more premium side. Because the stores are so big, shopping at Kaufland can take quite a bit of time, and it sometimes feels overwhelming. On weekends, the crowds can make the experience less enjoyable, but many still come because of the deals. One highlight is the international food section, which often has more variety than other supermarkets. Kaufland is also popular for its household items and drinks, with many special offers. All in all, it’s the perfect one-stop shop when you want to stock up on almost everything in a single trip.'\n",
    "\n",
    "Aldi = 'Aldi is the original German discount supermarket, and it has stayed true to its minimalistic shopping concept. The focus is on keeping things simple: limited product range, low prices, and quick shopping. Most items are Aldi’s own brands, which keeps costs down but still delivers solid quality. Their bakery corner is a highlight, offering fresh bread, rolls, and pastries at very affordable prices. Checkout at Aldi is famously fast, and while this keeps the lines moving, some customers feel rushed. The weekly special offers are a big attraction, as they often include household goods, clothing, or even seasonal products. Aldi has also modernized in recent years, expanding its organic and vegan product lines to keep up with new trends. While the selection is not as wide as in Edeka or Kaufland, the basics are always covered at unbeatable prices. For many Germans, Aldi is the place to go for quick and affordable shopping. Overall, it remains a trusted supermarket where people know they’ll get good value for their money.'\n",
    "\n",
    "supermarket_reviews = [Lidl, Edeka, Kaufland, Aldi]"
   ]
  },
  {
   "cell_type": "markdown",
   "metadata": {},
   "source": [
    "Example 1"
   ]
  },
  {
   "cell_type": "code",
   "execution_count": 8,
   "metadata": {},
   "outputs": [
    {
     "name": "stdout",
     "output_type": "stream",
     "text": [
      "0 Lidl: Affordable, efficient supermarket with own brands, popular bakery, weekly specials, and expanding organic/vegan options. Fast checkout. \n",
      "\n",
      "1 Edeka offers premium quality, variety, and a pleasant shopping experience with support for local products and friendly service. \n",
      "\n",
      "2 Kaufland: Hypermarket-like layout, wide product variety, reasonable prices, overwhelming crowds on weekends, great for one-stop shopping. \n",
      "\n",
      "3 Aldi: German discount supermarket with minimalistic concept, own brands, fast checkout, weekly specials, and modernized options. Trusted for value. \n",
      "\n"
     ]
    }
   ],
   "source": [
    "for i in range(len(supermarket_reviews)):\n",
    "    prompt = f\"\"\"\n",
    "    Your task is to generate a short summary of a supermarket \\ \n",
    "    review from an ecommerce site. \n",
    "\n",
    "    Summarize the review below, delimited by triple \\\n",
    "    backticks in at most 20 words. \n",
    "\n",
    "    Review: ```{supermarket_reviews[i]}```\n",
    "    \"\"\"\n",
    "\n",
    "    response = get_completion(prompt)\n",
    "    print(i, response, \"\\n\")"
   ]
  },
  {
   "cell_type": "markdown",
   "metadata": {},
   "source": [
    "Example 2"
   ]
  },
  {
   "cell_type": "code",
   "execution_count": 9,
   "metadata": {},
   "outputs": [
    {
     "name": "stdout",
     "output_type": "stream",
     "text": [
      "0 Lidl is a budget-friendly supermarket with own brands, fresh bakery items, weekly specials, and efficient checkout process. \n",
      "\n",
      "1 Edeka offers premium quality products with a wide selection, higher prices, and a market-like feel, appealing to those valuing quality and variety. \n",
      "\n",
      "2 Kaufland: Hypermarket with wide variety, reasonable prices, overwhelming size, crowded weekends, great for families, one-stop shop. \n",
      "\n",
      "3 Aldi offers minimalistic shopping with low prices, own brands, fast checkout, weekly specials, and expanding organic/vegan options. Trusted for good value. \n",
      "\n"
     ]
    }
   ],
   "source": [
    "for i in range(len(supermarket_reviews)):\n",
    "    prompt = f\"\"\"\n",
    "    Your task is to summarize based on prices and expences in each supermarket. \n",
    "\n",
    "    Summarize the review below, delimited by triple \\\n",
    "    backticks in at most 20 words. \n",
    "\n",
    "    Review: ```{supermarket_reviews[i]}```\n",
    "    \"\"\"\n",
    "\n",
    "    response = get_completion(prompt)\n",
    "    print(i, response, \"\\n\")"
   ]
  },
  {
   "cell_type": "markdown",
   "metadata": {},
   "source": [
    "Example 3"
   ]
  },
  {
   "cell_type": "code",
   "execution_count": 10,
   "metadata": {},
   "outputs": [
    {
     "name": "stdout",
     "output_type": "stream",
     "text": [
      "0 Based on the review, the order from cheapest to most expensive supermarkets in Germany would be:\n",
      "\n",
      "1. Lidl - known for being one of the most affordable supermarkets with good quality products at low prices.\n",
      "2. Kaufland - not mentioned in the review, but generally considered to be a mid-range supermarket in terms of pricing.\n",
      "3. Edeka - mentioned in the review as being more premium, so likely to be more expensive compared to Lidl and Kaufland. \n",
      "\n",
      "1 Based on the review, the order from cheapest to most expensive would likely be:\n",
      "\n",
      "1. Discount chains (not specified in the review, but typically cheaper than Edeka)\n",
      "2. Edeka (considered a more premium option with higher prices for better quality and variety) \n",
      "\n",
      "2 Based on the review, the order from cheapest to most expensive supermarket would be:\n",
      "\n",
      "1. Aldi or Lidl\n",
      "2. Kaufland\n",
      "3. Edeka \n",
      "\n",
      "3 Based on the review, the order from cheapest to most expensive supermarket would be:\n",
      "\n",
      "1. Aldi \n",
      "\n"
     ]
    }
   ],
   "source": [
    "for i in range(len(supermarket_reviews)):\n",
    "    prompt = f\"\"\"\n",
    "    Your task is to order in accordance to cheapest to expensive supermarket. \n",
    "\n",
    " \n",
    "\n",
    "    Review: ```{supermarket_reviews[i]}```\n",
    "    \"\"\"\n",
    "\n",
    "    response = get_completion(prompt)\n",
    "    print(i, response, \"\\n\")"
   ]
  },
  {
   "cell_type": "markdown",
   "metadata": {},
   "source": [
    "Summary and what I learnt:\n",
    "How to provide summary prompts. Classify and go deeper into summary like how i did in example 2.\n",
    "Along with summary we can introduce math functions like how i did in example 3"
   ]
  }
 ],
 "metadata": {
  "kernelspec": {
   "display_name": "ironhack",
   "language": "python",
   "name": "python3"
  },
  "language_info": {
   "codemirror_mode": {
    "name": "ipython",
    "version": 3
   },
   "file_extension": ".py",
   "mimetype": "text/x-python",
   "name": "python",
   "nbconvert_exporter": "python",
   "pygments_lexer": "ipython3",
   "version": "3.10.18"
  }
 },
 "nbformat": 4,
 "nbformat_minor": 4
}
